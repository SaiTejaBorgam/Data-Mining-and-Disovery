{
 "cells": [
  {
   "cell_type": "code",
   "execution_count": 1,
   "id": "123ff113-aaff-4e44-ad31-36f8f2711cea",
   "metadata": {},
   "outputs": [
    {
     "name": "stdout",
     "output_type": "stream",
     "text": [
      "Collecting fakerNote: you may need to restart the kernel to use updated packages.\n",
      "\n",
      "  Obtaining dependency information for faker from https://files.pythonhosted.org/packages/c0/c3/0451555e7a9a233bc17f128cff7654ec60036d4ccbb8397dd949f28df176/Faker-33.0.0-py3-none-any.whl.metadata\n",
      "  Downloading Faker-33.0.0-py3-none-any.whl.metadata (15 kB)\n",
      "Requirement already satisfied: python-dateutil>=2.4 in c:\\users\\saite\\anaconda3\\lib\\site-packages (from faker) (2.8.2)\n",
      "Requirement already satisfied: typing-extensions in c:\\users\\saite\\anaconda3\\lib\\site-packages (from faker) (4.9.0)\n",
      "Requirement already satisfied: six>=1.5 in c:\\users\\saite\\anaconda3\\lib\\site-packages (from python-dateutil>=2.4->faker) (1.16.0)\n",
      "Downloading Faker-33.0.0-py3-none-any.whl (1.9 MB)\n",
      "   ---------------------------------------- 0.0/1.9 MB ? eta -:--:--\n",
      "   ---------------------------------------- 0.0/1.9 MB ? eta -:--:--\n",
      "   --- ------------------------------------ 0.2/1.9 MB 2.3 MB/s eta 0:00:01\n",
      "   -------- ------------------------------- 0.4/1.9 MB 4.1 MB/s eta 0:00:01\n",
      "   --------------- ------------------------ 0.7/1.9 MB 4.5 MB/s eta 0:00:01\n",
      "   --------------------- ------------------ 1.0/1.9 MB 5.3 MB/s eta 0:00:01\n",
      "   --------------------------- ------------ 1.3/1.9 MB 5.2 MB/s eta 0:00:01\n",
      "   --------------------------------- ------ 1.6/1.9 MB 5.6 MB/s eta 0:00:01\n",
      "   ---------------------------------------  1.9/1.9 MB 5.4 MB/s eta 0:00:01\n",
      "   ---------------------------------------- 1.9/1.9 MB 5.2 MB/s eta 0:00:00\n",
      "Installing collected packages: faker\n",
      "Successfully installed faker-33.0.0\n"
     ]
    }
   ],
   "source": [
    "pip install faker"
   ]
  },
  {
   "cell_type": "code",
   "execution_count": 9,
   "id": "312b84f8-6e61-4051-b142-3afa2e91ad94",
   "metadata": {},
   "outputs": [],
   "source": [
    "import pandas as pd\n",
    "import random\n",
    "from faker import Faker\n",
    "import numpy as np\n",
    "\n",
    "batting_style = [\"Right-hand bat\", \"Left-hand bat\"] # Nominal data\n",
    "bowling_style = [\"Right-arm fast\", \"Left-arm fast\", \"Right-arm spin\", \"Left-arm spin\"] # Nominal data\n",
    "role = [\"Batsman\", \"Bowler\", \"All-rounder\", \"Wicketkeeper\"] # Nominal data\n",
    "\n",
    "teams_id_name = {\n",
    "    'ECB1': 'Kent',\n",
    "    'ECB2': 'Surrey',\n",
    "    'ECB3': 'Worcestershire',\n",
    "    'ECB4': 'Derbyshire',\n",
    "    'ECB5': 'Essex',\n",
    "    'ECB6': 'Glamorgan',\n",
    "    'ECB7': 'Hampshire',\n",
    "    'ECB8': 'Lancashire',\n",
    "    'ECB9': 'Northamptonshire',\n",
    "    'ECB10': 'Yorkshire',\n",
    "    'ECB11': 'Middlesex',\n",
    "    'ECB12': 'Sussex',\n",
    "    'ECB13': 'Durham Cricket'\n",
    "}\n",
    "\n",
    "grounds = [\"Bristol County Ground\", \"Durham County Cricket Ground\", \"Headingley\", \"Yorkshire County Cricket Ground\", \"Old Trafford Cricket Ground\", \"Cardiff Wales Stadium\", \"The Oval\", \"Kent County Cricket Ground\",\"Leeds Carnegie Cricket Ground\", \"Somerset County Cricket Ground\", \"Warwickshire County Cricket Ground\",\"Lancashire County Cricket Ground\", \"The Rose Bowl\", \"Trent Bridge\", \"Edgbaston Cricket Ground\",\"Northamptonshire County Ground\", \"Derbyshire County Cricket Ground\", \"Sussex County Cricket Ground\"]\n",
    "sponsor_names = [\"Vitality\", \"BBC\", \"Radox\", \"Castore\", \"Laithwaites\", \"Rothesay\",\"Cinch\", \"Chapel Down\", \"Cognizant\", \"SkySports\", \"Metro Bank\", \"Initial\", \"Rado\"]\n",
    "industries = [\"Media\", \"Banking\", \"Healthcare\", \"Retail\", \"Technology\", \"Manufacturing\", \"Energy\"]\n",
    "countries = [\"United Kingdom\", \"United States\", \"Germany\", \"Switzerland\", \"France\", \"Netherlands\", \"Canada\", \"Australia\", \"Japan\"]"
   ]
  },
  {
   "cell_type": "code",
   "execution_count": 10,
   "id": "34d05c1e-96d8-4a67-a399-cd323b4a955f",
   "metadata": {},
   "outputs": [],
   "source": [
    "Jersey_no = random.sample(range(1, 501), 100)\n",
    "players_data = {\n",
    "    \"Jersey_no\": Jersey_no,\n",
    "    \"Name\": [Faker().name() for _ in Jersey_no],\n",
    "    \"Age\": [random.randint(25, 40) for _ in Jersey_no],# Ratio data\n",
    "    \"Team_id\": [random.choice(list(teams_id_name.keys())) for _ in Jersey_no],\n",
    "    \"Batting_style\": [random.choice(batting_style) for _ in Jersey_no],\n",
    "    \"Bowling_style\": [random.choice(bowling_style) for _ in Jersey_no],\n",
    "    \"Role\": [random.choice(role) for _ in Jersey_no], # Ordinal data\n",
    "    \"Player Rank\": [random.randint(1, 100) for _ in range(100)]\n",
    "}\n",
    "\n",
    "players_df = pd.DataFrame(players_data)\n",
    "\n",
    "#Adding some missing values to table, Add wicketkeeper bowling style(as they dont bowl) as NAN and few batsmans(10% of batsmans doesnt bowl) as NAN\n",
    "players_df.loc[players_df['Role'] == 'Wicketkeeper', 'Bowling_style'] = np.nan\n",
    "batsmans = players_df[players_df['Role'] == 'Batsman'].sample(10).index\n",
    "players_df.loc[batsmans, 'Bowling_style'] = np.nan\n",
    "\n",
    "players_df.to_csv(\"players.csv\", index=False)"
   ]
  },
  {
   "cell_type": "code",
   "execution_count": 4,
   "id": "fca4f684-df53-4eae-8bf6-9f9c10c6072f",
   "metadata": {},
   "outputs": [],
   "source": [
    "teams = {\n",
    "    \"Team_id\": list(teams_id_name.keys()),\n",
    "    \"Team_name\": list(teams_id_name.values()),\n",
    "    \"Established_year\": [random.randint(1980, 2005) for _ in teams_id_name],\n",
    "    \"Home stadium\": [random.choice(grounds) for _ in teams_id_name],\n",
    "    \"Team_sponsor\": sponsor_names,\n",
    "}\n",
    "teams = pd.DataFrame(teams)\n",
    "teams.to_csv(\"teams.csv\", index=False)"
   ]
  },
  {
   "cell_type": "code",
   "execution_count": 5,
   "id": "4c7a4bed-858d-42cc-b8ac-cd19dc2eeec7",
   "metadata": {},
   "outputs": [],
   "source": [
    "sponsors = {\n",
    "    \"sponsor_name\": sponsor_names,\n",
    "    \"industry\": [random.choice(industries) for _ in sponsor_names],\n",
    "    \"country\": [random.choice(countries) for _ in sponsor_names],\n",
    "    \"founded_year\": [random.randint(1950, 1999) for _ in sponsor_names],\n",
    "    \"revenvue in million dollars\": [round(random.uniform(10, 500), 2) for _ in sponsor_names],\n",
    "}\n",
    "sponsors_df = pd.DataFrame(sponsors)\n",
    "sponsors_df.to_csv(\"sponsors.csv\", index=False)"
   ]
  },
  {
   "cell_type": "code",
   "execution_count": 6,
   "id": "10dbc9a6-5318-4687-a8bc-fe0522dd304c",
   "metadata": {},
   "outputs": [],
   "source": [
    "stadium_data = {\n",
    "    \"stadium_name\": grounds,\n",
    "    \"world_cup_host\": [random.choice([True, False]) for _ in grounds],\n",
    "    \"matches_played\": [random.randint(50, 500) for _ in grounds],\n",
    "    \"capacity\": [random.randint(10000, 50000) for _ in grounds],\n",
    "    \"year_established\": [random.randint(1900, 2005) for _ in grounds],\n",
    "}\n",
    "stadiums_df = pd.DataFrame(stadium_data)\n",
    "\n",
    "stadiums_df.to_csv(\"stadiums.csv\", index=False)"
   ]
  },
  {
   "cell_type": "code",
   "execution_count": 11,
   "id": "1f7a4734-ce85-4a38-9ac0-06c1059a5a48",
   "metadata": {},
   "outputs": [],
   "source": [
    "team_names = list(teams_id_name.values())\n",
    "\n",
    "all_dates = pd.date_range(start='2015-01-01', end='2024-11-16')\n",
    "dates = random.sample(list(all_dates), 1128)\n",
    "\n",
    "matches_data = {\n",
    "    \"team_1\": [random.choice(team_names) for _ in range(1128)],\n",
    "    \"team_2\": [random.choice(team_names) for _ in range(1128)],\n",
    "    \"match_date\": dates, # Interval data\n",
    "    \"venue\": [random.choice(grounds)for _ in range(1128)],\n",
    "    \"result\": [random.choice(['wins', 'wins', 'Draw']) for _ in range(1128)],\n",
    "}\n",
    "matches_df = pd.DataFrame(matches_data)\n",
    "\n",
    "matches_df['team_2'] = matches_df.apply(\n",
    "    lambda row: row['team_2'] if row['team_1'] != row['team_2'] else random.choice([team for team in team_names if team != row['team_1']]),\n",
    "    axis=1\n",
    ")\n",
    "matches_df['result'] = matches_df.apply(\n",
    "    lambda row: f\"{row['team_1']} {row['result']}\" if row['result'] == 'wins' else row['result'],\n",
    "    axis=1\n",
    ")\n",
    "\n",
    "#Adding some missing values to table, Add few matches result as NAN as usualy 5% of the matches doesnt have outcomes in cricket due to weather reasons\n",
    "draws= matches_df[matches_df['result'] == 'Draw'].index\n",
    "missing = random.sample(list(draws), 50)\n",
    "matches_df.loc[missing, 'result'] = np.nan\n",
    "\n",
    "matches_df.to_csv(\"matches.csv\", index=False)"
   ]
  },
  {
   "cell_type": "code",
   "execution_count": null,
   "id": "f1c8dda8-d16b-455e-a550-97348b1ac68a",
   "metadata": {},
   "outputs": [],
   "source": []
  }
 ],
 "metadata": {
  "kernelspec": {
   "display_name": "Python 3 (ipykernel)",
   "language": "python",
   "name": "python3"
  },
  "language_info": {
   "codemirror_mode": {
    "name": "ipython",
    "version": 3
   },
   "file_extension": ".py",
   "mimetype": "text/x-python",
   "name": "python",
   "nbconvert_exporter": "python",
   "pygments_lexer": "ipython3",
   "version": "3.11.5"
  }
 },
 "nbformat": 4,
 "nbformat_minor": 5
}
